{
 "cells": [
  {
   "cell_type": "code",
   "execution_count": null,
   "metadata": {
    "vscode": {
     "languageId": "plaintext"
    }
   },
   "outputs": [],
   "source": [
    "import pandas as pd\n",
    "import numpy as np\n",
    "import warnings\n",
    "\n",
    "warnings.simplefilter(\"ignore\")\n",
    "pd.set_option('display.max_columns', 10)\n",
    "pd.set_option('display.float_format', lambda x: '%.2f' % x)\n",
    "print(\"Libraries Loaded Successfully\")"
   ]
  },
  {
   "cell_type": "code",
   "execution_count": null,
   "metadata": {
    "vscode": {
     "languageId": "plaintext"
    }
   },
   "outputs": [],
   "source": [
    "def dataset_generation(sample_size=1000):\n",
    "    np.random.seed(42)\n",
    "    fertilizer = np.random.choice(['Organic', 'Synthetic'], size=sample_size)\n",
    "    plant_height = np.random.normal(100, 8, size=sample_size)\n",
    "    Number_of_leaves = np.random.normal(20, 4, size=sample_size)\n",
    "    Leaf_width = np.random.normal(12, 2, size=sample_size)\n",
    "    leaf_height = np.random.normal(15, 3, size=sample_size)\n",
    "    root_length = np.random.normal(25, 9, size=sample_size)\n",
    "    number_of_pods = np.random.normal(70, 8, size=sample_size)\n",
    "    pod_length = np.random.normal(18, 5, size=sample_size)\n",
    "    Yield = np.random.normal(70, 8, size=sample_size)\n",
    "    \n",
    "    data = pd.DataFrame({\n",
    "        \"Fertilizer\": fertilizer,\n",
    "        'Plant Height (cm)': plant_height,\n",
    "        'Number of Leaves': Number_of_leaves,\n",
    "        'Leaf Width (cm)': Leaf_width,\n",
    "        'Leaf Height (cm)': leaf_height,\n",
    "        'Root Length (cm)': root_length,\n",
    "        'Number of Pods': number_of_pods,\n",
    "        'Pod Length (cm)': pod_length,\n",
    "        'Yield (kg/ha)': Yield,\n",
    "        \n",
    "    })\n",
    "    return data"
   ]
  },
  {
   "cell_type": "code",
   "execution_count": null,
   "metadata": {
    "vscode": {
     "languageId": "plaintext"
    }
   },
   "outputs": [],
   "source": []
  }
 ],
 "metadata": {
  "language_info": {
   "name": "python"
  }
 },
 "nbformat": 4,
 "nbformat_minor": 2
}
